{
 "cells": [
  {
   "cell_type": "markdown",
   "metadata": {},
   "source": [
    "# 서울시 전체 매매가 추이 "
   ]
  },
  {
   "cell_type": "code",
   "execution_count": 115,
   "metadata": {},
   "outputs": [],
   "source": [
    "import numpy as np\n",
    "import pandas as pd\n",
    "import matplotlib.pyplot as plt\n",
    "%matplotlib inline\n"
   ]
  },
  {
   "cell_type": "code",
   "execution_count": 116,
   "metadata": {},
   "outputs": [],
   "source": [
    "# 폰트 문제 해결하기\n",
    "import platform\n",
    "\n",
    "path = \"c:/Windows/Fonts/malgun.ttf\"\n",
    "from matplotlib import font_manager, rc\n",
    "if platform.system() == 'Darwin':\n",
    "    rc('font', family='AppleGothic')\n",
    "elif platform.system() == 'Windows':\n",
    "    font_name = font_manager.FontProperties(fname=path).get_name()\n",
    "    rc('font', family=font_name)\n",
    "else:\n",
    "    print('Unknown system... sorry~~~~')"
   ]
  },
  {
   "cell_type": "code",
   "execution_count": 117,
   "metadata": {},
   "outputs": [],
   "source": [
    "price = pd.read_excel(\"중위단위매매가격_아파트.xlsx\",header=10,encoding=\"euc-kr\")"
   ]
  },
  {
   "cell_type": "code",
   "execution_count": 118,
   "metadata": {},
   "outputs": [],
   "source": [
    "price=price.iloc[:,1:]"
   ]
  },
  {
   "cell_type": "code",
   "execution_count": 119,
   "metadata": {},
   "outputs": [
    {
     "data": {
      "text/html": [
       "<div>\n",
       "<style scoped>\n",
       "    .dataframe tbody tr th:only-of-type {\n",
       "        vertical-align: middle;\n",
       "    }\n",
       "\n",
       "    .dataframe tbody tr th {\n",
       "        vertical-align: top;\n",
       "    }\n",
       "\n",
       "    .dataframe thead th {\n",
       "        text-align: right;\n",
       "    }\n",
       "</style>\n",
       "<table border=\"1\" class=\"dataframe\">\n",
       "  <thead>\n",
       "    <tr style=\"text-align: right;\">\n",
       "      <th></th>\n",
       "      <th>구별</th>\n",
       "      <th>2015년 01월</th>\n",
       "      <th>2015년 02월</th>\n",
       "      <th>2015년 03월</th>\n",
       "      <th>2015년 04월</th>\n",
       "      <th>2015년 05월</th>\n",
       "      <th>2015년 06월</th>\n",
       "      <th>2015년 07월</th>\n",
       "      <th>2015년 08월</th>\n",
       "      <th>2015년 09월</th>\n",
       "      <th>...</th>\n",
       "      <th>2017년 07월</th>\n",
       "      <th>2017년 08월</th>\n",
       "      <th>2017년 09월</th>\n",
       "      <th>2017년 10월</th>\n",
       "      <th>2017년 11월</th>\n",
       "      <th>2017년 12월</th>\n",
       "      <th>2018년 01월</th>\n",
       "      <th>2018년 02월</th>\n",
       "      <th>2018년 03월</th>\n",
       "      <th>2018년 04월</th>\n",
       "    </tr>\n",
       "  </thead>\n",
       "  <tbody>\n",
       "    <tr>\n",
       "      <th>0</th>\n",
       "      <td>서울시</td>\n",
       "      <td>5829</td>\n",
       "      <td>5846</td>\n",
       "      <td>5883</td>\n",
       "      <td>5940</td>\n",
       "      <td>5978</td>\n",
       "      <td>6031</td>\n",
       "      <td>6285</td>\n",
       "      <td>6314</td>\n",
       "      <td>6358</td>\n",
       "      <td>...</td>\n",
       "      <td>6773</td>\n",
       "      <td>6820</td>\n",
       "      <td>6809</td>\n",
       "      <td>6819</td>\n",
       "      <td>6845</td>\n",
       "      <td>7599</td>\n",
       "      <td>7740</td>\n",
       "      <td>7906</td>\n",
       "      <td>7946</td>\n",
       "      <td>7979</td>\n",
       "    </tr>\n",
       "    <tr>\n",
       "      <th>1</th>\n",
       "      <td>종로구</td>\n",
       "      <td>5841</td>\n",
       "      <td>5841</td>\n",
       "      <td>5847</td>\n",
       "      <td>5865</td>\n",
       "      <td>5906</td>\n",
       "      <td>5894</td>\n",
       "      <td>5908</td>\n",
       "      <td>5920</td>\n",
       "      <td>5926</td>\n",
       "      <td>...</td>\n",
       "      <td>6395</td>\n",
       "      <td>6458</td>\n",
       "      <td>6472</td>\n",
       "      <td>6489</td>\n",
       "      <td>6542</td>\n",
       "      <td>7756</td>\n",
       "      <td>7908</td>\n",
       "      <td>8013</td>\n",
       "      <td>8024</td>\n",
       "      <td>8024</td>\n",
       "    </tr>\n",
       "    <tr>\n",
       "      <th>2</th>\n",
       "      <td>중구</td>\n",
       "      <td>5818</td>\n",
       "      <td>5836</td>\n",
       "      <td>5871</td>\n",
       "      <td>5901</td>\n",
       "      <td>5901</td>\n",
       "      <td>5954</td>\n",
       "      <td>6019</td>\n",
       "      <td>6030</td>\n",
       "      <td>6089</td>\n",
       "      <td>...</td>\n",
       "      <td>6285</td>\n",
       "      <td>6312</td>\n",
       "      <td>6353</td>\n",
       "      <td>6371</td>\n",
       "      <td>6406</td>\n",
       "      <td>7964</td>\n",
       "      <td>8046</td>\n",
       "      <td>8064</td>\n",
       "      <td>8064</td>\n",
       "      <td>8064</td>\n",
       "    </tr>\n",
       "    <tr>\n",
       "      <th>3</th>\n",
       "      <td>용산구</td>\n",
       "      <td>7313</td>\n",
       "      <td>7317</td>\n",
       "      <td>7351</td>\n",
       "      <td>7386</td>\n",
       "      <td>7440</td>\n",
       "      <td>7449</td>\n",
       "      <td>7380</td>\n",
       "      <td>7380</td>\n",
       "      <td>7380</td>\n",
       "      <td>...</td>\n",
       "      <td>8061</td>\n",
       "      <td>8089</td>\n",
       "      <td>8089</td>\n",
       "      <td>8089</td>\n",
       "      <td>8123</td>\n",
       "      <td>10552</td>\n",
       "      <td>10841</td>\n",
       "      <td>11169</td>\n",
       "      <td>11253</td>\n",
       "      <td>11329</td>\n",
       "    </tr>\n",
       "    <tr>\n",
       "      <th>4</th>\n",
       "      <td>성동구</td>\n",
       "      <td>5600</td>\n",
       "      <td>5600</td>\n",
       "      <td>5655</td>\n",
       "      <td>5710</td>\n",
       "      <td>5680</td>\n",
       "      <td>5714</td>\n",
       "      <td>5832</td>\n",
       "      <td>5906</td>\n",
       "      <td>5939</td>\n",
       "      <td>...</td>\n",
       "      <td>6394</td>\n",
       "      <td>6438</td>\n",
       "      <td>6436</td>\n",
       "      <td>6445</td>\n",
       "      <td>6523</td>\n",
       "      <td>7847</td>\n",
       "      <td>8024</td>\n",
       "      <td>8246</td>\n",
       "      <td>8329</td>\n",
       "      <td>8295</td>\n",
       "    </tr>\n",
       "  </tbody>\n",
       "</table>\n",
       "<p>5 rows × 41 columns</p>\n",
       "</div>"
      ],
      "text/plain": [
       "    구별  2015년 01월  2015년 02월  2015년 03월  2015년 04월  2015년 05월  2015년 06월  \\\n",
       "0  서울시       5829       5846       5883       5940       5978       6031   \n",
       "1  종로구       5841       5841       5847       5865       5906       5894   \n",
       "2   중구       5818       5836       5871       5901       5901       5954   \n",
       "3  용산구       7313       7317       7351       7386       7440       7449   \n",
       "4  성동구       5600       5600       5655       5710       5680       5714   \n",
       "\n",
       "   2015년 07월  2015년 08월  2015년 09월    ...      2017년 07월  2017년 08월  \\\n",
       "0       6285       6314       6358    ...           6773       6820   \n",
       "1       5908       5920       5926    ...           6395       6458   \n",
       "2       6019       6030       6089    ...           6285       6312   \n",
       "3       7380       7380       7380    ...           8061       8089   \n",
       "4       5832       5906       5939    ...           6394       6438   \n",
       "\n",
       "   2017년 09월  2017년 10월  2017년 11월  2017년 12월  2018년 01월  2018년 02월  \\\n",
       "0       6809       6819       6845       7599       7740       7906   \n",
       "1       6472       6489       6542       7756       7908       8013   \n",
       "2       6353       6371       6406       7964       8046       8064   \n",
       "3       8089       8089       8123      10552      10841      11169   \n",
       "4       6436       6445       6523       7847       8024       8246   \n",
       "\n",
       "   2018년 03월  2018년 04월  \n",
       "0       7946       7979  \n",
       "1       8024       8024  \n",
       "2       8064       8064  \n",
       "3      11253      11329  \n",
       "4       8329       8295  \n",
       "\n",
       "[5 rows x 41 columns]"
      ]
     },
     "execution_count": 119,
     "metadata": {},
     "output_type": "execute_result"
    }
   ],
   "source": [
    "price.head()"
   ]
  },
  {
   "cell_type": "code",
   "execution_count": 120,
   "metadata": {},
   "outputs": [],
   "source": [
    "y=price.iloc[0,1:]"
   ]
  },
  {
   "cell_type": "code",
   "execution_count": 121,
   "metadata": {},
   "outputs": [],
   "source": [
    "d = pd.date_range(start='1/1/2015', end='4/1/2018', freq='MS') "
   ]
  },
  {
   "cell_type": "code",
   "execution_count": 125,
   "metadata": {},
   "outputs": [
    {
     "data": {
      "image/png": "[encoded data removed]",
      "text/plain": [
       "<matplotlib.figure.Figure at 0x2272c0b3518>"
      ]
     },
     "metadata": {},
     "output_type": "display_data"
    }
   ],
   "source": [
    "## 시각화 \n",
    "plt.figure(figsize=(20,10))\n",
    "plt.plot(d,y,label=\"평당 중위매매가격\",c=\"green\")\n",
    "plt.title(\"서울시 m2당 중위매매가격 추이 <2015 1월 ~ 2018년 4월>\",size=20)\n",
    "plt.ylabel(\"평당 매매가격\",size=10)\n",
    "plt.show()"
   ]
  },
  {
   "cell_type": "code",
   "execution_count": null,
   "metadata": {},
   "outputs": [],
   "source": []
  }
 ],
 "metadata": {
  "kernelspec": {
   "display_name": "Python 3",
   "language": "python",
   "name": "python3"
  },
  "language_info": {
   "codemirror_mode": {
    "name": "ipython",
    "version": 3
   },
   "file_extension": ".py",
   "mimetype": "text/x-python",
   "name": "python",
   "nbconvert_exporter": "python",
   "pygments_lexer": "ipython3",
   "version": "3.6.4"
  }
 },
 "nbformat": 4,
 "nbformat_minor": 2
}
